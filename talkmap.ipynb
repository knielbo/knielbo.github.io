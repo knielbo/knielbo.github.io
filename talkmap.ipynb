{
 "cells": [
  {
   "cell_type": "markdown",
   "metadata": {},
   "source": [
    "# Leaflet cluster map of talk locations\n",
    "\n",
    "Run this from the _talks/ directory, which contains .md files of all your talks. This scrapes the location YAML field from each .md file, geolocates it with geopy/Nominatim, and uses the getorg library to output data, HTML, and Javascript for a standalone cluster map."
   ]
  },
  {
   "cell_type": "code",
   "execution_count": 1,
   "metadata": {},
   "outputs": [],
   "source": [
    "import os\n",
    "os.chdir(\"_talks/\")"
   ]
  },
  {
   "cell_type": "code",
   "execution_count": 2,
   "metadata": {},
   "outputs": [
    {
     "name": "stdout",
     "output_type": "stream",
     "text": [
      "/home/knielbo/Documents/knielbo.github.io/_talks\n"
     ]
    }
   ],
   "source": [
    "print(os.getcwd())"
   ]
  },
  {
   "cell_type": "code",
   "execution_count": 3,
   "metadata": {},
   "outputs": [
    {
     "name": "stdout",
     "output_type": "stream",
     "text": [
      "Requirement already up-to-date: getorg in /home/knielbo/virtenvs/demo/lib/python3.5/site-packages (0.3.1)\n",
      "Requirement already satisfied, skipping upgrade: retrying in /home/knielbo/virtenvs/demo/lib/python3.5/site-packages (from getorg) (1.3.3)\n",
      "Requirement already satisfied, skipping upgrade: geopy in /home/knielbo/virtenvs/demo/lib/python3.5/site-packages (from getorg) (1.16.0)\n",
      "Requirement already satisfied, skipping upgrade: pygithub in /home/knielbo/virtenvs/demo/lib/python3.5/site-packages (from getorg) (1.40)\n",
      "Requirement already satisfied, skipping upgrade: six>=1.7.0 in /home/knielbo/virtenvs/demo/lib/python3.5/site-packages (from retrying->getorg) (1.11.0)\n",
      "Requirement already satisfied, skipping upgrade: geographiclib<2,>=1.49 in /home/knielbo/virtenvs/demo/lib/python3.5/site-packages (from geopy->getorg) (1.49)\n",
      "Requirement already satisfied, skipping upgrade: pyjwt in /home/knielbo/virtenvs/demo/lib/python3.5/site-packages (from pygithub->getorg) (1.6.4)\n",
      "Requirement already satisfied, skipping upgrade: requests>=2.14.0 in /home/knielbo/virtenvs/demo/lib/python3.5/site-packages (from pygithub->getorg) (2.18.4)\n",
      "Requirement already satisfied, skipping upgrade: idna<2.7,>=2.5 in /home/knielbo/virtenvs/demo/lib/python3.5/site-packages (from requests>=2.14.0->pygithub->getorg) (2.6)\n",
      "Requirement already satisfied, skipping upgrade: chardet<3.1.0,>=3.0.2 in /home/knielbo/virtenvs/demo/lib/python3.5/site-packages (from requests>=2.14.0->pygithub->getorg) (3.0.4)\n",
      "Requirement already satisfied, skipping upgrade: urllib3<1.23,>=1.21.1 in /home/knielbo/virtenvs/demo/lib/python3.5/site-packages (from requests>=2.14.0->pygithub->getorg) (1.22)\n",
      "Requirement already satisfied, skipping upgrade: certifi>=2017.4.17 in /home/knielbo/virtenvs/demo/lib/python3.5/site-packages (from requests>=2.14.0->pygithub->getorg) (2018.4.16)\n",
      "Iywidgets and ipyleaflet support disabled. You must be in a Jupyter notebook to use this feature.\n",
      "Error raised:\n",
      "No module named 'ipyleaflet'\n",
      "Check that you have enabled ipyleaflet in Jupyter with:\n",
      "    jupyter nbextension enable --py ipyleaflet\n"
     ]
    }
   ],
   "source": [
    "!pip install getorg --upgrade\n",
    "import glob\n",
    "import getorg\n",
    "from geopy import Nominatim"
   ]
  },
  {
   "cell_type": "code",
   "execution_count": 4,
   "metadata": {},
   "outputs": [],
   "source": [
    "g = glob.glob(\"*.md\")"
   ]
  },
  {
   "cell_type": "code",
   "execution_count": 5,
   "metadata": {},
   "outputs": [
    {
     "name": "stderr",
     "output_type": "stream",
     "text": [
      "/home/knielbo/virtenvs/demo/lib/python3.5/site-packages/geopy/geocoders/osm.py:138: UserWarning: Using Nominatim with the default \"geopy/1.16.0\" `user_agent` is strongly discouraged, as it violates Nominatim's ToS https://operations.osmfoundation.org/policies/nominatim/ and may possibly cause 403 and 429 HTTP errors. Please specify a custom `user_agent` with `Nominatim(user_agent=\"my-application\")` or by overriding the default `user_agent`: `geopy.geocoders.options.default_user_agent = \"my-application\"`. In geopy 2.0 this will become an exception.\n",
      "  UserWarning\n"
     ]
    }
   ],
   "source": [
    "geocoder = Nominatim()\n",
    "location_dict = {}\n",
    "location = \"\"\n",
    "permalink = \"\"\n",
    "title = \"\""
   ]
  },
  {
   "cell_type": "code",
   "execution_count": 6,
   "metadata": {},
   "outputs": [
    {
     "name": "stdout",
     "output_type": "stream",
     "text": [
      "Aarhus, Denmark \n",
      " Aarhus, Aarhus Kommune, Region Midtjylland, 8000, Danmark\n",
      "Kolding \n",
      " Kolding, Kolding Kommune, Region Syddanmark, 6000, Danmark\n",
      "Helsinki \n",
      " Helsinki, Helsingin seutukunta, Uusimaa, Etelä-Suomi, Manner-Suomi, Suomi\n",
      "Nanning, China \n",
      " 南宁市, 兴宁区 (Xingning), 南宁市 / Nanning, 广西壮族自治区, 460000, 中国\n",
      "Helsinki \n",
      " Helsinki, Helsingin seutukunta, Uusimaa, Etelä-Suomi, Manner-Suomi, Suomi\n",
      "University of Copenhagen, Copenhagen, Denmark \n",
      " Københavns Universitet, Krystalgade, Kødbyen, Vesterbro, København, Københavns Kommune, Region Hovedstaden, 1165, Danmark\n",
      "Copenhagen \n",
      " København, Københavns Kommune, Region Hovedstaden, 1357, Danmark\n",
      "Emdrup, Denmark \n",
      " Emdrup, Emdrupvej, Emdrup, København, Københavns Kommune, Region Hovedstaden, 2870, Danmark\n",
      "Baoding, China \n",
      " 保定市, 河北省, 中国\n",
      "Odense, Denmark \n",
      " Odense, Odense Kommune, Region Syddanmark, 5000, Danmark\n",
      "Copenhagen \n",
      " København, Københavns Kommune, Region Hovedstaden, 1357, Danmark\n",
      "Växjö, Sverige \n",
      " Växjö, Kronobergs län, Götaland, 351 04, Sverige\n",
      "Middelfart, Denmark \n",
      " Middelfart, Middelfart Kommune, Region Syddanmark, 5500, Danmark\n",
      "Lake Arrowhead \n",
      " Lake Arrowhead, Shelter Cove Lane, North Shore, San Bernardino County, California, 92352, USA\n",
      "Lake Arrowhead \n",
      " Lake Arrowhead, Shelter Cove Lane, North Shore, San Bernardino County, California, 92352, USA\n",
      "University of Southern Denmark, Kolding, DK \n",
      " SDU, Engstien, Sydvestkvarteret, Kolding, Kolding Kommune, Region Syddanmark, 6000, Danmark\n",
      "Beijing \n",
      " 北京市, 东城区, 北京市, 100010, 中国\n",
      "Paris \n",
      " Paris, Île-de-France, France métropolitaine, France\n",
      "Los Angeles \n",
      " LA, Los Angeles County, California, USA\n",
      "Baoding, China \n",
      " 保定市, 河北省, 中国\n",
      "Aarhus, Denmark \n",
      " Aarhus, Aarhus Kommune, Region Midtjylland, 8000, Danmark\n",
      "University of Southern Denmark, Odense, Denmark \n",
      " SDU, Campusvej, Holluf Pile, Cortex Park, Odense Kommune, Region Syddanmark, 5230, Danmark\n",
      "Copenhagen \n",
      " København, Københavns Kommune, Region Hovedstaden, 1357, Danmark\n",
      "Aarhus \n",
      " Aarhus, Aarhus Kommune, Region Midtjylland, 8000, Danmark\n",
      "Copenhagen, Denmark \n",
      " København, Københavns Kommune, Region Hovedstaden, 1357, Danmark\n",
      "Odense, Denmark \n",
      " Odense, Odense Kommune, Region Syddanmark, 5000, Danmark\n",
      "Odense, Denmark \n",
      " Odense, Odense Kommune, Region Syddanmark, 5000, Danmark\n",
      "Paris, France \n",
      " Paris, Île-de-France, France métropolitaine, France\n",
      "Brussels \n",
      " BXL, Brussel-Hoofdstad - Bruxelles-Capitale, Région de Bruxelles-Capitale - Brussels Hoofdstedelijk Gewest, 1000, België / Belgique / Belgien\n",
      "Aarhus, Aarhus University \n",
      " AU, Wilhelm Meyers Alle, Christiansbjerg, Aarhus, Aarhus Kommune, Region Midtjylland, 8200, Danmark\n",
      "Aarhus, Denmark \n",
      " Aarhus, Aarhus Kommune, Region Midtjylland, 8000, Danmark\n"
     ]
    }
   ],
   "source": [
    "\n",
    "for file in g:\n",
    "    with open(file, 'r') as f:\n",
    "        lines = f.read()\n",
    "        if lines.find('location: \"') > 1:\n",
    "            loc_start = lines.find('location: \"') + 11\n",
    "            lines_trim = lines[loc_start:]\n",
    "            loc_end = lines_trim.find('\"')\n",
    "            location = lines_trim[:loc_end]\n",
    "                            \n",
    "           \n",
    "        location_dict[location] = geocoder.geocode(location)\n",
    "        print(location, \"\\n\", location_dict[location])\n"
   ]
  },
  {
   "cell_type": "code",
   "execution_count": 7,
   "metadata": {},
   "outputs": [
    {
     "data": {
      "text/plain": [
       "'Written map to ../talkmap/'"
      ]
     },
     "execution_count": 7,
     "metadata": {},
     "output_type": "execute_result"
    }
   ],
   "source": [
    "m = getorg.orgmap.create_map_obj()\n",
    "getorg.orgmap.output_html_cluster_map(location_dict, folder_name=\"../talkmap\", hashed_usernames=False)"
   ]
  },
  {
   "cell_type": "code",
   "execution_count": null,
   "metadata": {
    "collapsed": true
   },
   "outputs": [],
   "source": []
  }
 ],
 "metadata": {
  "anaconda-cloud": {},
  "kernelspec": {
   "display_name": "demo",
   "language": "python",
   "name": "demo"
  },
  "language_info": {
   "codemirror_mode": {
    "name": "ipython",
    "version": 3
   },
   "file_extension": ".py",
   "mimetype": "text/x-python",
   "name": "python",
   "nbconvert_exporter": "python",
   "pygments_lexer": "ipython3",
   "version": "3.5.2"
  }
 },
 "nbformat": 4,
 "nbformat_minor": 1
}
