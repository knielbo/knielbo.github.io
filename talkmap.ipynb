{
 "cells": [
  {
   "cell_type": "markdown",
   "metadata": {},
   "source": [
    "# Leaflet cluster map of talk locations\n",
    "\n",
    "Run this from the _talks/ directory, which contains .md files of all your talks. This scrapes the location YAML field from each .md file, geolocates it with geopy/Nominatim, and uses the getorg library to output data, HTML, and Javascript for a standalone cluster map."
   ]
  },
  {
   "cell_type": "code",
   "execution_count": 1,
   "metadata": {},
   "outputs": [],
   "source": [
    "import os\n",
    "os.chdir(\"_talks/\")"
   ]
  },
  {
   "cell_type": "code",
   "execution_count": 2,
   "metadata": {},
   "outputs": [
    {
     "name": "stdout",
     "output_type": "stream",
     "text": [
      "/home/knielbo/Documents/knielbo.github.io/_talks\n"
     ]
    }
   ],
   "source": [
    "print(os.getcwd())"
   ]
  },
  {
   "cell_type": "code",
   "execution_count": 3,
   "metadata": {},
   "outputs": [
    {
     "name": "stdout",
     "output_type": "stream",
     "text": [
      "Collecting getorg\n",
      "  Downloading https://files.pythonhosted.org/packages/d8/81/842a17df2892d8f357929a3a937d30f36bd11998b31b75e663515e24bf50/getorg-0.3.1-py2.py3-none-any.whl\n",
      "Collecting pygithub (from getorg)\n",
      "\u001b[?25l  Downloading https://files.pythonhosted.org/packages/9c/f7/bfd1e1dbb6b78f1485e76c9e5cd34833e69ba9705f9f941c4dc5eac0f0de/PyGithub-1.40.tar.gz (2.6MB)\n",
      "\u001b[K    100% |████████████████████████████████| 2.6MB 5.8MB/s ta 0:00:011\n",
      "\u001b[?25hCollecting retrying (from getorg)\n",
      "  Downloading https://files.pythonhosted.org/packages/44/ef/beae4b4ef80902f22e3af073397f079c96969c69b2c7d52a57ea9ae61c9d/retrying-1.3.3.tar.gz\n",
      "Collecting geopy (from getorg)\n",
      "\u001b[?25l  Downloading https://files.pythonhosted.org/packages/38/55/4f4d10b966d302707f17d7a55a4ea6ece2c574cff1be9bf3debb65ff74b9/geopy-1.16.0-py2.py3-none-any.whl (90kB)\n",
      "\u001b[K    100% |████████████████████████████████| 92kB 16.0MB/s ta 0:00:01\n",
      "\u001b[?25hRequirement already satisfied, skipping upgrade: requests>=2.14.0 in /home/knielbo/virtenvs/demo/lib/python3.5/site-packages (from pygithub->getorg) (2.18.4)\n",
      "Collecting pyjwt (from pygithub->getorg)\n",
      "  Downloading https://files.pythonhosted.org/packages/93/d1/3378cc8184a6524dc92993090ee8b4c03847c567e298305d6cf86987e005/PyJWT-1.6.4-py2.py3-none-any.whl\n",
      "Requirement already satisfied, skipping upgrade: six>=1.7.0 in /home/knielbo/virtenvs/demo/lib/python3.5/site-packages (from retrying->getorg) (1.11.0)\n",
      "Collecting geographiclib<2,>=1.49 (from geopy->getorg)\n",
      "  Downloading https://files.pythonhosted.org/packages/5b/ac/4f348828091490d77899bc74e92238e2b55c59392f21948f296e94e50e2b/geographiclib-1.49.tar.gz\n",
      "Requirement already satisfied, skipping upgrade: urllib3<1.23,>=1.21.1 in /home/knielbo/virtenvs/demo/lib/python3.5/site-packages (from requests>=2.14.0->pygithub->getorg) (1.22)\n",
      "Requirement already satisfied, skipping upgrade: certifi>=2017.4.17 in /home/knielbo/virtenvs/demo/lib/python3.5/site-packages (from requests>=2.14.0->pygithub->getorg) (2018.4.16)\n",
      "Requirement already satisfied, skipping upgrade: idna<2.7,>=2.5 in /home/knielbo/virtenvs/demo/lib/python3.5/site-packages (from requests>=2.14.0->pygithub->getorg) (2.6)\n",
      "Requirement already satisfied, skipping upgrade: chardet<3.1.0,>=3.0.2 in /home/knielbo/virtenvs/demo/lib/python3.5/site-packages (from requests>=2.14.0->pygithub->getorg) (3.0.4)\n",
      "Building wheels for collected packages: pygithub, retrying, geographiclib\n",
      "  Running setup.py bdist_wheel for pygithub ... \u001b[?25ldone\n",
      "\u001b[?25h  Stored in directory: /home/knielbo/.cache/pip/wheels/e5/e6/b7/4ee47c4a963acee836dc957b60cc5b458e3f8f5ce0af9a08dd\n",
      "  Running setup.py bdist_wheel for retrying ... \u001b[?25ldone\n",
      "\u001b[?25h  Stored in directory: /home/knielbo/.cache/pip/wheels/d7/a9/33/acc7b709e2a35caa7d4cae442f6fe6fbf2c43f80823d46460c\n",
      "  Running setup.py bdist_wheel for geographiclib ... \u001b[?25ldone\n",
      "\u001b[?25h  Stored in directory: /home/knielbo/.cache/pip/wheels/99/45/d1/14954797e2a976083182c2e7da9b4e924509e59b6e5c661061\n",
      "Successfully built pygithub retrying geographiclib\n",
      "Installing collected packages: pyjwt, pygithub, retrying, geographiclib, geopy, getorg\n",
      "Successfully installed geographiclib-1.49 geopy-1.16.0 getorg-0.3.1 pygithub-1.40 pyjwt-1.6.4 retrying-1.3.3\n",
      "Iywidgets and ipyleaflet support disabled. You must be in a Jupyter notebook to use this feature.\n",
      "Error raised:\n",
      "No module named 'ipyleaflet'\n",
      "Check that you have enabled ipyleaflet in Jupyter with:\n",
      "    jupyter nbextension enable --py ipyleaflet\n"
     ]
    }
   ],
   "source": [
    "!pip install getorg --upgrade\n",
    "import glob\n",
    "import getorg\n",
    "from geopy import Nominatim"
   ]
  },
  {
   "cell_type": "code",
   "execution_count": 4,
   "metadata": {},
   "outputs": [],
   "source": [
    "g = glob.glob(\"*.md\")"
   ]
  },
  {
   "cell_type": "code",
   "execution_count": 5,
   "metadata": {},
   "outputs": [
    {
     "name": "stderr",
     "output_type": "stream",
     "text": [
      "/home/knielbo/virtenvs/demo/lib/python3.5/site-packages/geopy/geocoders/osm.py:138: UserWarning: Using Nominatim with the default \"geopy/1.16.0\" `user_agent` is strongly discouraged, as it violates Nominatim's ToS https://operations.osmfoundation.org/policies/nominatim/ and may possibly cause 403 and 429 HTTP errors. Please specify a custom `user_agent` with `Nominatim(user_agent=\"my-application\")` or by overriding the default `user_agent`: `geopy.geocoders.options.default_user_agent = \"my-application\"`. In geopy 2.0 this will become an exception.\n",
      "  UserWarning\n"
     ]
    }
   ],
   "source": [
    "geocoder = Nominatim()\n",
    "location_dict = {}\n",
    "location = \"\"\n",
    "permalink = \"\"\n",
    "title = \"\""
   ]
  },
  {
   "cell_type": "code",
   "execution_count": 6,
   "metadata": {},
   "outputs": [
    {
     "name": "stdout",
     "output_type": "stream",
     "text": [
      "Aarhus, Denmark \n",
      " Aarhus, Aarhus Kommune, Region Midtjylland, 8000, Danmark\n",
      "Kolding \n",
      " Kolding, Kolding Kommune, Region Syddanmark, 6000, Danmark\n",
      "Helsinki \n",
      " Helsinki, Helsingin seutukunta, Uusimaa, Etelä-Suomi, Manner-Suomi, Suomi\n",
      "Nanning, China \n",
      " 南宁市, 西乡塘区 Xixiangtang, 南宁市 / Nanning, 广西壮族自治区, 中国\n",
      "Helsinki \n",
      " Helsinki, Helsingin seutukunta, Uusimaa, Etelä-Suomi, Manner-Suomi, Suomi\n",
      "Emdrup, Denmark \n",
      " Emdrup, Emdrupvej, Emdrup, København, Københavns Kommune, Region Hovedstaden, 2870, Danmark\n",
      "Baoding, China \n",
      " 保定市, 河北省, 中国\n",
      "Odense, Denmark \n",
      " Odense, Odense Kommune, Region Syddanmark, 5000, Danmark\n",
      "Copenhagen \n",
      " København, Københavns Kommune, Region Hovedstaden, 1357, Danmark\n",
      "Växjö, Sverige \n",
      " Växjö, Kronobergs län, Götaland, 351 04, Sverige\n",
      "Middelfart, Denmark \n",
      " Middelfart, Middelfart Kommune, Region Syddanmark, 5500, Danmark\n",
      "Middelfart, Denmark \n",
      " Middelfart, Middelfart Kommune, Region Syddanmark, 5500, Danmark\n",
      "University of Southern Denmark, Kolding, DK \n",
      " SDU, Engstien, Sydvestkvarteret, Kolding, Kolding Kommune, Region Syddanmark, 6000, Danmark\n",
      "Beijing \n",
      " 北京市, 东城区, 北京市, 100010, 中国\n",
      "Los Angeles \n",
      " LA, Los Angeles County, California, United States of America\n",
      "Baoding, China \n",
      " 保定市, 河北省, 中国\n",
      "Aarhus, Denmark \n",
      " Aarhus, Aarhus Kommune, Region Midtjylland, 8000, Danmark\n",
      "Copenhagen \n",
      " København, Københavns Kommune, Region Hovedstaden, 1357, Danmark\n",
      "Copenhagen, Denmark \n",
      " København, Københavns Kommune, Region Hovedstaden, 1357, Danmark\n",
      "Odense, Denmark \n",
      " Odense, Odense Kommune, Region Syddanmark, 5000, Danmark\n",
      "Odense, Denmark \n",
      " Odense, Odense Kommune, Region Syddanmark, 5000, Danmark\n",
      "Paris, France \n",
      " Paris, Île-de-France, France métropolitaine, France\n",
      "Brussels \n",
      " BXL, Brussel-Hoofdstad - Bruxelles-Capitale, Région de Bruxelles-Capitale - Brussels Hoofdstedelijk Gewest, 1000, België / Belgique / Belgien\n",
      "Baoding, China \n",
      " 保定市, 河北省, 中国\n"
     ]
    }
   ],
   "source": [
    "\n",
    "for file in g:\n",
    "    with open(file, 'r') as f:\n",
    "        lines = f.read()\n",
    "        if lines.find('location: \"') > 1:\n",
    "            loc_start = lines.find('location: \"') + 11\n",
    "            lines_trim = lines[loc_start:]\n",
    "            loc_end = lines_trim.find('\"')\n",
    "            location = lines_trim[:loc_end]\n",
    "                            \n",
    "           \n",
    "        location_dict[location] = geocoder.geocode(location)\n",
    "        print(location, \"\\n\", location_dict[location])\n"
   ]
  },
  {
   "cell_type": "code",
   "execution_count": null,
   "metadata": {},
   "outputs": [],
   "source": [
    "m = getorg.orgmap.create_map_obj()\n",
    "getorg.orgmap.output_html_cluster_map(location_dict, folder_name=\"../talkmap\", hashed_usernames=False)"
   ]
  },
  {
   "cell_type": "code",
   "execution_count": null,
   "metadata": {
    "collapsed": true
   },
   "outputs": [],
   "source": []
  }
 ],
 "metadata": {
  "anaconda-cloud": {},
  "kernelspec": {
   "display_name": "demo",
   "language": "python",
   "name": "demo"
  },
  "language_info": {
   "codemirror_mode": {
    "name": "ipython",
    "version": 3
   },
   "file_extension": ".py",
   "mimetype": "text/x-python",
   "name": "python",
   "nbconvert_exporter": "python",
   "pygments_lexer": "ipython3",
   "version": "3.5.2"
  }
 },
 "nbformat": 4,
 "nbformat_minor": 1
}
