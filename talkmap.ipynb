{
 "cells": [
  {
   "cell_type": "markdown",
   "metadata": {},
   "source": [
    "# Leaflet cluster map of talk locations\n",
    "\n",
    "Run this from the _talks/ directory, which contains .md files of all your talks. This scrapes the location YAML field from each .md file, geolocates it with geopy/Nominatim, and uses the getorg library to output data, HTML, and Javascript for a standalone cluster map."
   ]
  },
  {
   "cell_type": "code",
   "execution_count": 8,
   "metadata": {},
   "outputs": [
    {
     "ename": "FileNotFoundError",
     "evalue": "[Errno 2] No such file or directory: '_talks/'",
     "output_type": "error",
     "traceback": [
      "\u001b[0;31m---------------------------------------------------------------------------\u001b[0m",
      "\u001b[0;31mFileNotFoundError\u001b[0m                         Traceback (most recent call last)",
      "\u001b[0;32m<ipython-input-8-4276c70f91e3>\u001b[0m in \u001b[0;36m<module>\u001b[0;34m()\u001b[0m\n\u001b[1;32m      1\u001b[0m \u001b[0;32mimport\u001b[0m \u001b[0mos\u001b[0m\u001b[0;34m\u001b[0m\u001b[0m\n\u001b[0;32m----> 2\u001b[0;31m \u001b[0mos\u001b[0m\u001b[0;34m.\u001b[0m\u001b[0mchdir\u001b[0m\u001b[0;34m(\u001b[0m\u001b[0;34m\"_talks/\"\u001b[0m\u001b[0;34m)\u001b[0m\u001b[0;34m\u001b[0m\u001b[0m\n\u001b[0m",
      "\u001b[0;31mFileNotFoundError\u001b[0m: [Errno 2] No such file or directory: '_talks/'"
     ]
    }
   ],
   "source": [
    "import os\n",
    "os.chdir(\"_talks/\")"
   ]
  },
  {
   "cell_type": "code",
   "execution_count": 9,
   "metadata": {},
   "outputs": [
    {
     "name": "stdout",
     "output_type": "stream",
     "text": [
      "/home/knielbo/Documents/knielbo.github.io/_talks\n"
     ]
    }
   ],
   "source": [
    "print(os.getcwd())"
   ]
  },
  {
   "cell_type": "code",
   "execution_count": 10,
   "metadata": {},
   "outputs": [
    {
     "name": "stdout",
     "output_type": "stream",
     "text": [
      "Requirement already up-to-date: getorg in /home/knielbo/virtenvs/swc/lib/python3.6/site-packages\n",
      "Requirement already up-to-date: pygithub in /home/knielbo/virtenvs/swc/lib/python3.6/site-packages (from getorg)\n",
      "Requirement already up-to-date: geopy in /home/knielbo/virtenvs/swc/lib/python3.6/site-packages (from getorg)\n",
      "Requirement already up-to-date: retrying in /home/knielbo/virtenvs/swc/lib/python3.6/site-packages (from getorg)\n",
      "Requirement already up-to-date: pyjwt in /home/knielbo/virtenvs/swc/lib/python3.6/site-packages (from pygithub->getorg)\n",
      "Requirement already up-to-date: six>=1.7.0 in /home/knielbo/virtenvs/swc/lib/python3.6/site-packages (from retrying->getorg)\n"
     ]
    }
   ],
   "source": [
    "!pip install getorg --upgrade\n",
    "import glob\n",
    "import getorg\n",
    "from geopy import Nominatim"
   ]
  },
  {
   "cell_type": "code",
   "execution_count": 11,
   "metadata": {},
   "outputs": [],
   "source": [
    "g = glob.glob(\"*.md\")"
   ]
  },
  {
   "cell_type": "code",
   "execution_count": 12,
   "metadata": {},
   "outputs": [],
   "source": [
    "geocoder = Nominatim()\n",
    "location_dict = {}\n",
    "location = \"\"\n",
    "permalink = \"\"\n",
    "title = \"\""
   ]
  },
  {
   "cell_type": "code",
   "execution_count": 13,
   "metadata": {},
   "outputs": [
    {
     "name": "stdout",
     "output_type": "stream",
     "text": [
      "Sverige \n",
      " Sverige\n",
      "Sverige \n",
      " Sverige\n",
      "Kolding \n",
      " Kolding, Kolding Kommune, Region Syddanmark, 6000, Danmark\n",
      "Odense, Denmark \n",
      " Odense, Odense Kommune, Region Syddanmark, 5000, Danmark\n",
      "Copenhagen \n",
      " København, Københavns Kommune, Region Hovedstaden, 1357, Danmark\n",
      "Helsinki \n",
      " Helsinki, Helsingin seutukunta, Uusimaa, Etelä-Suomi, Manner-Suomi, Suomi\n",
      "Odense, Denmark \n",
      " Odense, Odense Kommune, Region Syddanmark, 5000, Danmark\n",
      "Nanning, China \n",
      " 南宁市, 西乡塘区 Xixiangtang, 南宁市 / Nanning, 广西壮族自治区, 中国\n",
      "Los Angeles \n",
      " LA, Los Angeles County, California, United States of America\n",
      "Brussels \n",
      " BXL, Brussel-Hoofdstad - Bruxelles-Capitale, Région de Bruxelles-Capitale - Brussels Hoofdstedelijk Gewest, 1000, België / Belgique / Belgien\n",
      "Copenhagen \n",
      " København, Københavns Kommune, Region Hovedstaden, 1357, Danmark\n",
      "Emdrup, Denmark \n",
      " Emdrup, Banebrinken, Emdrup, København, Københavns Kommune, Region Hovedstaden, 2870, Danmark\n",
      "Beijing \n",
      " 北京市, 东城区, 北京市, 100010, 中国\n",
      "University of Southern Denmark, Kolding, DK \n",
      " SDU, Engstien, Sydvestkvarteret, Kolding, Kolding Kommune, Region Syddanmark, 6000, Danmark\n",
      "Helsinki \n",
      " Helsinki, Helsingin seutukunta, Uusimaa, Etelä-Suomi, Manner-Suomi, Suomi\n"
     ]
    }
   ],
   "source": [
    "\n",
    "for file in g:\n",
    "    with open(file, 'r') as f:\n",
    "        lines = f.read()\n",
    "        if lines.find('location: \"') > 1:\n",
    "            loc_start = lines.find('location: \"') + 11\n",
    "            lines_trim = lines[loc_start:]\n",
    "            loc_end = lines_trim.find('\"')\n",
    "            location = lines_trim[:loc_end]\n",
    "                            \n",
    "           \n",
    "        location_dict[location] = geocoder.geocode(location)\n",
    "        print(location, \"\\n\", location_dict[location])\n"
   ]
  },
  {
   "cell_type": "code",
   "execution_count": 14,
   "metadata": {},
   "outputs": [
    {
     "data": {
      "text/plain": [
       "'Written map to ../talkmap/'"
      ]
     },
     "execution_count": 14,
     "metadata": {},
     "output_type": "execute_result"
    }
   ],
   "source": [
    "m = getorg.orgmap.create_map_obj()\n",
    "getorg.orgmap.output_html_cluster_map(location_dict, folder_name=\"../talkmap\", hashed_usernames=False)"
   ]
  },
  {
   "cell_type": "code",
   "execution_count": null,
   "metadata": {
    "collapsed": true
   },
   "outputs": [],
   "source": []
  }
 ],
 "metadata": {
  "anaconda-cloud": {},
  "kernelspec": {
   "display_name": "swc",
   "language": "python",
   "name": "myswc"
  },
  "language_info": {
   "codemirror_mode": {
    "name": "ipython",
    "version": 3
   },
   "file_extension": ".py",
   "mimetype": "text/x-python",
   "name": "python",
   "nbconvert_exporter": "python",
   "pygments_lexer": "ipython3",
   "version": "3.6.3"
  }
 },
 "nbformat": 4,
 "nbformat_minor": 1
}
